{
  "cells": [
    {
      "cell_type": "markdown",
      "metadata": {
        "id": "view-in-github",
        "colab_type": "text"
      },
      "source": [
        "<a href=\"https://colab.research.google.com/github/jonG312/prompt_engineering_techniques/blob/main/IX_Course_Outline%E2%80%9D.ipynb\" target=\"_parent\"><img src=\"https://colab.research.google.com/assets/colab-badge.svg\" alt=\"Open In Colab\"/></a>"
      ]
    },
    {
      "cell_type": "markdown",
      "metadata": {
        "id": "FW3ZSOuueRdo"
      },
      "source": [
        "\n",
        "iteratively analyze and refine the prompts to generate marketing copy from a product fact sheet.\n",
        "\n",
        "## Setup"
      ]
    },
    {
      "cell_type": "code",
      "execution_count": null,
      "metadata": {
        "id": "WHn6qBTteRds"
      },
      "outputs": [],
      "source": [
        "# Basic congfig\n",
        "# Install basic package and set key\n",
        "!pip install openai\n",
        "!pip install python-dotenv"
      ]
    },
    {
      "cell_type": "code",
      "execution_count": null,
      "metadata": {
        "id": "8Qho5iEleRdt"
      },
      "outputs": [],
      "source": [
        "import openai\n",
        "import os\n",
        "\n",
        "openai.api_key  = ''"
      ]
    },
    {
      "cell_type": "code",
      "execution_count": null,
      "metadata": {
        "id": "ba6iIJfLeRdt"
      },
      "outputs": [],
      "source": [
        "def get_completion(prompt, model=\"gpt-3.5-turbo\"):\n",
        "    messages = [{\"role\": \"user\", \"content\": prompt}]\n",
        "    response = openai.ChatCompletion.create(\n",
        "        model=model,\n",
        "        messages=messages,\n",
        "        temperature=0, # this is the degree of randomness of the model's output\n",
        "    )\n",
        "    return response.choices[0].message[\"content\"]"
      ]
    },
    {
      "cell_type": "markdown",
      "metadata": {
        "id": "8nI-mH0UeRdt"
      },
      "source": [
        "Generate a marketing product description from a product fact sheet"
      ]
    },
    {
      "cell_type": "code",
      "execution_count": null,
      "metadata": {
        "id": "bzGQUXlaeRdu"
      },
      "outputs": [],
      "source": [
        "fact_sheet_course_outline = \"\"\"\n",
        "OVERVIEW\n",
        "- provides an overview of the fundamental concepts and techniques of artificial intelligence (AI)\n",
        "- especific search, knowledge representation, reasoning, planning, learning, natural language processing, computer vision, and robotics.\n",
        "- explores the ethical and social implications of AI and its applications.\n",
        "- Explain the basic principles and methods of AI\n",
        "- Apply AI techniques to solve simple problems\n",
        "- Evaluate the strengths and limitations of different AI approaches\n",
        "- Discuss the ethical and social issues related to AI\n",
        "\n",
        "CONSTRUCTION\n",
        "- The course consists of 12 weekly sessions, each covering a different topic.\n",
        "- Week 1: Introduction to AI\n",
        "- Week 2: Search Algorithms\n",
        "- Week 3: Constraint Satisfaction Problems\n",
        "- Week 4: Game Playing\n",
        "- Week 5: Knowledge Representation and Reasoning\n",
        "- Week 6: Planning\n",
        "- Week 7: Midterm Exam\n",
        "- Week 8: Machine Learning\n",
        "- Week 9: Natural Language P\n",
        "- Week 11: Robotics\n",
        "- Week 12: Ethics and Social Issues of AI\n",
        "\n",
        "DIMENSIONS\n",
        "\n",
        "- The course consists of 12 weekly sessions, each covering a different topic.\n",
        "\n",
        "OPTIONS\n",
        "\n",
        "- development of the individual final project\n",
        "- development of the final team project\n",
        "\n",
        "MATERIALS\n",
        "\n",
        "- electronic kit\n",
        "- robot parts\n",
        "\n",
        "COUNTRY OF ORIGIN\n",
        "- China\n",
        "\"\"\""
      ]
    },
    {
      "cell_type": "code",
      "execution_count": null,
      "metadata": {
        "id": "zC9tT_CfeRdu"
      },
      "outputs": [],
      "source": [
        "prompt = f\"\"\"\n",
        "Your task is to help a profesor team  to create the\n",
        "description for a course outline based in Artificial\n",
        "on a technical fact sheet.\n",
        "\n",
        "Write a course outline description based on the information\n",
        "provided in the technical specifications delimited by\n",
        "triple backticks.\n",
        "\n",
        "Technical specifications: ```{fact_sheet_course_outline}```\n",
        "\"\"\"\n",
        "response = get_completion(prompt)\n",
        "print(response)\n"
      ]
    },
    {
      "cell_type": "markdown",
      "metadata": {
        "id": "RUuZXXyneRdv"
      },
      "source": [
        "## Issue 1: The text is too long\n",
        "- Limit the number of words/sentences/characters."
      ]
    },
    {
      "cell_type": "code",
      "execution_count": null,
      "metadata": {
        "id": "xokRLNgxeRdv"
      },
      "outputs": [],
      "source": [
        "prompt = f\"\"\"\n",
        "Your task is to help a profesor team  to create the\n",
        "description for a course outline based in Artificial\n",
        "on a technical fact sheet.\n",
        "\n",
        "Write a course outline description based on the information\n",
        "provided in the technical specifications delimited by\n",
        "triple backticks.\n",
        "\n",
        "Use at most 50 words.\n",
        "\n",
        "Technical specifications: ```{fact_sheet_course_outline}```\n",
        "\"\"\"\n",
        "response = get_completion(prompt)\n",
        "print(response)"
      ]
    },
    {
      "cell_type": "code",
      "execution_count": null,
      "metadata": {
        "id": "lvboWuJheRdw",
        "outputId": "1b65133f-98d4-4980-babf-6e5356cc1f6e"
      },
      "outputs": [
        {
          "data": {
            "text/plain": [
              "499"
            ]
          },
          "execution_count": 10,
          "metadata": {},
          "output_type": "execute_result"
        }
      ],
      "source": [
        "len(response)"
      ]
    },
    {
      "cell_type": "markdown",
      "metadata": {
        "id": "niD3AQoYeRdw"
      },
      "source": [
        "## Issue 2. Text focuses on the wrong details\n",
        "- Ask it to focus on the aspects that are relevant to the intended audience."
      ]
    },
    {
      "cell_type": "code",
      "execution_count": null,
      "metadata": {
        "id": "PZdYo_jkeRdx"
      },
      "outputs": [],
      "source": [
        "prompt = f\"\"\"\n",
        "Your task is to help a profesor team  to create the\n",
        "description for a course outline based in Artificial\n",
        "on a technical fact sheet.\n",
        "\n",
        "Write a course outline description based on the information\n",
        "provided in the technical specifications delimited by\n",
        "triple backticks.\n",
        "\n",
        "The description is intended for one university course,\n",
        "so should be technical and focus on cut-edge technologies.\n",
        "\n",
        "Use at most 50 words.\n",
        "\n",
        "Technical specifications: ```{fact_sheet_course_outline}```\n",
        "\"\"\"\n",
        "response = get_completion(prompt)\n",
        "print(response)"
      ]
    },
    {
      "cell_type": "markdown",
      "metadata": {
        "id": "q4l40-48eRdx"
      },
      "source": [
        "## Issue 3. Description needs a table of dimensions\n",
        "- Ask it to extract information and organize it in a table."
      ]
    },
    {
      "cell_type": "code",
      "execution_count": null,
      "metadata": {
        "id": "ucgKEiwKeRdx"
      },
      "outputs": [],
      "source": [
        "prompt = f\"\"\"\n",
        "\n",
        "Your task is to help a profesor team  to create the\n",
        "description for a course outline based in Artificial\n",
        "on a technical fact sheet.\n",
        "\n",
        "Write a course outline description based on the information\n",
        "provided in the technical specifications delimited by\n",
        "triple backticks.\n",
        "\n",
        "The description is intended for one university course,\n",
        "so should be technical and focus on cut-edge technologies.\n",
        "\n",
        "\n",
        "\n",
        "After the description, include a table that gives the\n",
        "outline arranges. The table should have two columns.\n",
        "In the first column include the name of the week.\n",
        "In the second column include the content.\n",
        "\n",
        "Give the table the title 'Schedule Outline'.\n",
        "\n",
        "Format everything as HTML that can be used in a website.\n",
        "Place the description in a <div> element.\n",
        "\n",
        "Technical specifications: ```{fact_sheet_course_outline}```\n",
        "\"\"\"\n",
        "\n",
        "response = get_completion(prompt)\n",
        "print(response)"
      ]
    },
    {
      "cell_type": "markdown",
      "metadata": {
        "id": "zp4uWueJeRdx"
      },
      "source": [
        "## Load Python libraries to view HTML"
      ]
    },
    {
      "cell_type": "code",
      "execution_count": null,
      "metadata": {
        "id": "ZuTyEnYLeRdx"
      },
      "outputs": [],
      "source": [
        "from IPython.display import display, HTML"
      ]
    },
    {
      "cell_type": "code",
      "execution_count": null,
      "metadata": {
        "id": "cQTUMJC1eRdy",
        "outputId": "e8d9247f-b2f8-4b1c-a7ed-6d77a6920b01"
      },
      "outputs": [
        {
          "data": {
            "text/html": [
              "<div>\n",
              "  <h2>Artificial Intelligence Course</h2>\n",
              "  <p>This course provides an in-depth overview of the fundamental concepts and techniques of artificial intelligence (AI). Students will learn about specific search algorithms, knowledge representation, reasoning, planning, learning, natural language processing, computer vision, and robotics. The course will also explore the ethical and social implications of AI and its applications. By the end of the course, students will be able to explain the basic principles and methods of AI, apply AI techniques to solve simple problems, evaluate the strengths and limitations of different AI approaches, and discuss the ethical and social issues related to AI.</p>\n",
              "</div>\n",
              "\n",
              "<table>\n",
              "  <caption>Schedule Outline</caption>\n",
              "  <thead>\n",
              "    <tr>\n",
              "      <th>Week</th>\n",
              "      <th>Content</th>\n",
              "    </tr>\n",
              "  </thead>\n",
              "  <tbody>\n",
              "    <tr>\n",
              "      <td>1</td>\n",
              "      <td>Introduction to AI</td>\n",
              "    </tr>\n",
              "    <tr>\n",
              "      <td>2</td>\n",
              "      <td>Search Algorithms</td>\n",
              "    </tr>\n",
              "    <tr>\n",
              "      <td>3</td>\n",
              "      <td>Constraint Satisfaction Problems</td>\n",
              "    </tr>\n",
              "    <tr>\n",
              "      <td>4</td>\n",
              "      <td>Game Playing</td>\n",
              "    </tr>\n",
              "    <tr>\n",
              "      <td>5</td>\n",
              "      <td>Knowledge Representation and Reasoning</td>\n",
              "    </tr>\n",
              "    <tr>\n",
              "      <td>6</td>\n",
              "      <td>Planning</td>\n",
              "    </tr>\n",
              "    <tr>\n",
              "      <td>7</td>\n",
              "      <td>Midterm Exam</td>\n",
              "    </tr>\n",
              "    <tr>\n",
              "      <td>8</td>\n",
              "      <td>Machine Learning</td>\n",
              "    </tr>\n",
              "    <tr>\n",
              "      <td>9</td>\n",
              "      <td>Natural Language Processing</td>\n",
              "    </tr>\n",
              "    <tr>\n",
              "      <td>10</td>\n",
              "      <td>Computer Vision</td>\n",
              "    </tr>\n",
              "    <tr>\n",
              "      <td>11</td>\n",
              "      <td>Robotics</td>\n",
              "    </tr>\n",
              "    <tr>\n",
              "      <td>12</td>\n",
              "      <td>Ethics and Social Issues of AI</td>\n",
              "    </tr>\n",
              "  </tbody>\n",
              "</table>"
            ],
            "text/plain": [
              "<IPython.core.display.HTML object>"
            ]
          },
          "metadata": {},
          "output_type": "display_data"
        }
      ],
      "source": [
        "display(HTML(response))"
      ]
    },
    {
      "cell_type": "code",
      "execution_count": null,
      "metadata": {
        "id": "Ai6mFouxe7Jp"
      },
      "outputs": [],
      "source": []
    }
  ],
  "metadata": {
    "colab": {
      "provenance": [],
      "include_colab_link": true
    },
    "kernelspec": {
      "display_name": "gpt_index",
      "language": "python",
      "name": "python3"
    },
    "language_info": {
      "codemirror_mode": {
        "name": "ipython",
        "version": 3
      },
      "file_extension": ".py",
      "mimetype": "text/x-python",
      "name": "python",
      "nbconvert_exporter": "python",
      "pygments_lexer": "ipython3",
      "version": "3.10.4"
    },
    "orig_nbformat": 4
  },
  "nbformat": 4,
  "nbformat_minor": 0
}
