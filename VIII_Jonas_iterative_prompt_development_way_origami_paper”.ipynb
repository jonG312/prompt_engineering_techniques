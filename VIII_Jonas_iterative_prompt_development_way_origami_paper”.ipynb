{
  "cells": [
    {
      "cell_type": "markdown",
      "metadata": {
        "id": "view-in-github",
        "colab_type": "text"
      },
      "source": [
        "<a href=\"https://colab.research.google.com/github/jonG312/prompt_engineering_techniques/blob/main/VIII_Jonas_iterative_prompt_development_way_origami_paper%E2%80%9D.ipynb\" target=\"_parent\"><img src=\"https://colab.research.google.com/assets/colab-badge.svg\" alt=\"Open In Colab\"/></a>"
      ]
    },
    {
      "cell_type": "markdown",
      "metadata": {
        "id": "lMGs-4ywCw4M"
      },
      "source": [
        "\n",
        "# Iterative Prompt Develelopment\n",
        " iteratively analyze and refine of the prompts to generate origami pieces copy from a product fact sheet.\n",
        "\n",
        "## Setup"
      ]
    },
    {
      "cell_type": "code",
      "execution_count": null,
      "metadata": {
        "id": "UI6GEt_HCw4Q"
      },
      "outputs": [],
      "source": [
        "# Basic congfig\n",
        "# Install basic package and set key\n",
        "!pip install openai\n",
        "!pip install python-dotenv"
      ]
    },
    {
      "cell_type": "code",
      "execution_count": null,
      "metadata": {
        "id": "7TVAoSmaCw4S"
      },
      "outputs": [],
      "source": [
        "import openai\n",
        "import os\n",
        "\n",
        "openai.api_key  = 'your-api-key-here'"
      ]
    },
    {
      "cell_type": "code",
      "execution_count": null,
      "metadata": {
        "id": "M3f28THhCw4T"
      },
      "outputs": [],
      "source": [
        "def get_completion(prompt, model=\"gpt-3.5-turbo\"):\n",
        "    messages = [{\"role\": \"user\", \"content\": prompt}]\n",
        "    response = openai.ChatCompletion.create(\n",
        "        model=model,\n",
        "        messages=messages,\n",
        "        temperature=0, # this is the degree of randomness of the model's output\n",
        "    )\n",
        "    return response.choices[0].message[\"content\"]"
      ]
    },
    {
      "cell_type": "markdown",
      "metadata": {
        "id": "A3bhh3JkCw4U"
      },
      "source": [
        "Generate a origami product description from a product fact sheet"
      ]
    },
    {
      "cell_type": "code",
      "execution_count": null,
      "metadata": {
        "id": "V0_FX4SaCw4U"
      },
      "outputs": [],
      "source": [
        "fact_origami_paper = \"\"\"\n",
        "OVERVIEW\n",
        "- Part of a beautiful family of modern inspired origami pieces,\n",
        "including animales, boxes, dragons, flowers, and more.\n",
        "- Several options of shell color and base finishes.\n",
        "- Available with diferents sizes of paper and shapes\n",
        "- Base paper options are: leather, kami paper, tan paper, washi paper, chiyogami Paper, origami paper\n",
        "\n",
        "\n",
        "CONSTRUCTION\n",
        "- Cut paper.\n",
        "- Folder paper.\n",
        "\n",
        "DIMENSIONS\n",
        "- WIDTH  15 CM | 5,90551181”\n",
        "- HEIGHT 15 CM | 5,90551181”\n",
        "\n",
        "OPTIONS\n",
        "- Pages of books\n",
        "- Gift Wrap\n",
        "- mail flyers\n",
        "- Kraft paper\n",
        "- Newspaper\n",
        "\n",
        "MATERIALS\n",
        "ORIGAMI PAPER BASE\n",
        "- Cast Aluminum with modified nylon PA6/PA66 coating.\n",
        "- paper thickness: 1.6 mm.\n",
        "- Cotton paper\n",
        "- metallic paper\n",
        "- wax paper\n",
        "- craft paper\n",
        "\n",
        "COUNTRY OF ORIGIN\n",
        "- Japan\n",
        "\"\"\""
      ]
    },
    {
      "cell_type": "code",
      "execution_count": null,
      "metadata": {
        "id": "TTNDgR_CCw4V"
      },
      "outputs": [],
      "source": [
        "prompt = f\"\"\"\n",
        "Your task is to help a Artist team create a\n",
        "description for a retail website of a product based\n",
        "on a technical of origami.\n",
        "\n",
        "Write a series of product description based on the information\n",
        "provided in the technical specifications delimited by\n",
        "triple backticks.\n",
        "\n",
        "Technical specifications: ```{fact_origami_paper}```\n",
        "\"\"\"\n",
        "response = get_completion(prompt)\n",
        "print(response)\n"
      ]
    },
    {
      "cell_type": "markdown",
      "metadata": {
        "id": "m55MgMcACw4W"
      },
      "source": [
        "## Issue 1: The text is too long\n",
        "- Limit the number of words/sentences/characters."
      ]
    },
    {
      "cell_type": "code",
      "execution_count": null,
      "metadata": {
        "id": "dLuvFhPvCw4W"
      },
      "outputs": [],
      "source": [
        "prompt = f\"\"\"\n",
        "Your task is to help a Artist team create a\n",
        "description for a retail website of a product based\n",
        "on a technical of origami.\n",
        "\n",
        "Write a series of product description based on the information\n",
        "provided in the technical specifications delimited by\n",
        "triple backticks.\n",
        "\n",
        "Technical specifications: ```{fact_origami_paper}```\n",
        "\"\"\"\n",
        "response = get_completion(prompt)\n",
        "print(response)"
      ]
    },
    {
      "cell_type": "code",
      "execution_count": null,
      "metadata": {
        "colab": {
          "base_uri": "https://localhost:8080/"
        },
        "id": "Ho85XPADCw4W",
        "outputId": "b1524840-6f63-4774-f9f5-a595379f8d7f"
      },
      "outputs": [
        {
          "data": {
            "text/plain": [
              "1418"
            ]
          },
          "execution_count": 12,
          "metadata": {},
          "output_type": "execute_result"
        }
      ],
      "source": [
        "len(response)"
      ]
    },
    {
      "cell_type": "markdown",
      "metadata": {
        "id": "w8eAi9jlCw4X"
      },
      "source": [
        "## Issue 2. Text focuses on the wrong details\n",
        "- Ask it to focus on the aspects that are relevant to the intended audience."
      ]
    },
    {
      "cell_type": "code",
      "execution_count": null,
      "metadata": {
        "id": "Po53zDH5Cw4X"
      },
      "outputs": [],
      "source": [
        "prompt = f\"\"\"\n",
        "Your task is to help a Artist team create a\n",
        "description for a retail website of a product based\n",
        "on a technical of origami.\n",
        "\n",
        "Write a series of product description based on the information\n",
        "provided in the technical specifications delimited by\n",
        "triple backticks.\n",
        "\n",
        "The description is intended for origami art pieces retailers,\n",
        "so should be technical in the japanese tradition and focus on the\n",
        "materials the product is constructed from.\n",
        "\n",
        "Use at most 100 words.\n",
        "\n",
        "Technical specifications: ```{fact_origami_paper}```\n",
        "\"\"\"\n",
        "response = get_completion(prompt)\n",
        "print(response)"
      ]
    },
    {
      "cell_type": "code",
      "execution_count": null,
      "metadata": {
        "id": "I1V2OgKOCw4X"
      },
      "outputs": [],
      "source": [
        "prompt = f\"\"\"\n",
        "Your task is to help a Artist team create a\n",
        "description for a retail website of a product based\n",
        "on a technical of origami.\n",
        "\n",
        "Write a series of product description based on the information\n",
        "provided in the technical specifications delimited by\n",
        "triple backticks.\n",
        "\n",
        "The description is intended for origami art pieces retailers,\n",
        "so should be technical in the japanese tradition and focus on the\n",
        "materials the product is constructed from.\n",
        "\n",
        "At the end of the description, include every 7-character\n",
        "Product ID in the technical specification.\n",
        "\n",
        "Use at most 50 words.\n",
        "\n",
        "Technical specifications: ```{fact_origami_paper}```\n",
        "\"\"\"\n",
        "response = get_completion(prompt)\n",
        "print(response)"
      ]
    },
    {
      "cell_type": "markdown",
      "metadata": {
        "id": "3Qap3-zvCw4X"
      },
      "source": [
        "## Issue 3. Description needs the origami pieces dimensions\n",
        "- Ask it to extract information and organize it in a table."
      ]
    },
    {
      "cell_type": "code",
      "execution_count": null,
      "metadata": {
        "id": "2l8xs6n1Cw4Y"
      },
      "outputs": [],
      "source": [
        "prompt = f\"\"\"\n",
        "Your task is to help a Artist team create a\n",
        "description for a retail website of a product based\n",
        "on a technical of origami.\n",
        "\n",
        "Write a series of product description based on the information\n",
        "provided in the technical specifications delimited by\n",
        "triple backticks.\n",
        "\n",
        "The description is intended for origami art pieces retailers,\n",
        "so should be technical in the japanese tradition and focus on the\n",
        "materials the product is constructed from.\n",
        "\n",
        "At the end of the description, include every 7-character\n",
        "Product ID in the technical specification.\n",
        "\n",
        "After the description, include a origami piece that gives the\n",
        "product's dimensions. The table should have two columns.\n",
        "In the first column include the name of the dimension.\n",
        "In the second column include the measurements in inches only.\n",
        "\n",
        "Give the origami piece the title 'Product Dimensions'.\n",
        "\n",
        "Format everything as HTML that can be used in a website.\n",
        "Place the description in a <div> element.\n",
        "\n",
        "Technical specifications: ```{fact_origami_paper}```\n",
        "\"\"\"\n",
        "\n",
        "response = get_completion(prompt)\n",
        "print(response)"
      ]
    },
    {
      "cell_type": "markdown",
      "metadata": {
        "id": "gpDJITszCw4Y"
      },
      "source": [
        "## Load Python libraries to view HTML"
      ]
    },
    {
      "cell_type": "code",
      "execution_count": null,
      "metadata": {
        "id": "ltpu_UJUCw4Y"
      },
      "outputs": [],
      "source": [
        "from IPython.display import display, HTML"
      ]
    },
    {
      "cell_type": "code",
      "execution_count": null,
      "metadata": {
        "id": "VrRjMcJtCw4Y"
      },
      "outputs": [],
      "source": [
        "display(HTML(response))"
      ]
    }
  ],
  "metadata": {
    "colab": {
      "provenance": [],
      "include_colab_link": true
    },
    "kernelspec": {
      "display_name": "gpt_index",
      "language": "python",
      "name": "python3"
    },
    "language_info": {
      "codemirror_mode": {
        "name": "ipython",
        "version": 3
      },
      "file_extension": ".py",
      "mimetype": "text/x-python",
      "name": "python",
      "nbconvert_exporter": "python",
      "pygments_lexer": "ipython3",
      "version": "3.8.16"
    },
    "orig_nbformat": 4
  },
  "nbformat": 4,
  "nbformat_minor": 0
}